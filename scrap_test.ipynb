{
 "cells": [
  {
   "cell_type": "code",
   "execution_count": 1,
   "id": "24f39f26",
   "metadata": {},
   "outputs": [],
   "source": [
    "import requests\n",
    "from bs4 import BeautifulSoup as bs\n",
    "from urllib.request import urlopen"
   ]
  },
  {
   "cell_type": "code",
   "execution_count": 2,
   "id": "db43cf4a",
   "metadata": {},
   "outputs": [],
   "source": [
    "#we are trying to scrap a flipkart page and searching a laptop item\n",
    "url=\"https://www.flipkart.com/search?q=\"+\"laptops\""
   ]
  },
  {
   "cell_type": "code",
   "execution_count": 3,
   "id": "93054070",
   "metadata": {},
   "outputs": [
    {
     "data": {
      "text/plain": [
       "'https://www.flipkart.com/search?q=laptops'"
      ]
     },
     "execution_count": 3,
     "metadata": {},
     "output_type": "execute_result"
    }
   ],
   "source": [
    "#checking the url\n",
    "url"
   ]
  },
  {
   "cell_type": "code",
   "execution_count": 4,
   "id": "7fd1b112",
   "metadata": {},
   "outputs": [],
   "source": [
    "#opening the url,alternatively use requests.get also\n",
    "url_client=urlopen(url)"
   ]
  },
  {
   "cell_type": "code",
   "execution_count": 5,
   "id": "21282e3b",
   "metadata": {},
   "outputs": [
    {
     "data": {
      "text/plain": [
       "<http.client.HTTPResponse at 0x2323516b4c0>"
      ]
     },
     "execution_count": 5,
     "metadata": {},
     "output_type": "execute_result"
    }
   ],
   "source": [
    "#checking the response\n",
    "url_client"
   ]
  },
  {
   "cell_type": "code",
   "execution_count": 6,
   "id": "4862c5b2",
   "metadata": {},
   "outputs": [],
   "source": [
    "#reading the page\n",
    "url_page=url_client.read()"
   ]
  },
  {
   "cell_type": "code",
   "execution_count": 7,
   "id": "e8bc670d",
   "metadata": {},
   "outputs": [],
   "source": [
    "#use beautiful soup for parsing the html\n",
    "page_html=bs(url_page,'html.parser')"
   ]
  },
  {
   "cell_type": "code",
   "execution_count": 8,
   "id": "4d480adc",
   "metadata": {},
   "outputs": [
    {
     "data": {
      "text/plain": [
       "1275"
      ]
     },
     "execution_count": 8,
     "metadata": {},
     "output_type": "execute_result"
    }
   ],
   "source": [
    "#checking the div tag data\n",
    "len(page_html.find_all('div'))"
   ]
  },
  {
   "cell_type": "code",
   "execution_count": 9,
   "id": "fd2035c4",
   "metadata": {},
   "outputs": [],
   "source": [
    "#fetching the laptops listed on the page using the div class\n",
    "div_box=page_html.find_all('div',attrs={'class':'_1AtVbE col-12-12'})"
   ]
  },
  {
   "cell_type": "code",
   "execution_count": 10,
   "id": "af1e4088",
   "metadata": {},
   "outputs": [
    {
     "data": {
      "text/plain": [
       "30"
      ]
     },
     "execution_count": 10,
     "metadata": {},
     "output_type": "execute_result"
    }
   ],
   "source": [
    "#checking the length to crosscheck the fetched data\n",
    "len(div_box)"
   ]
  },
  {
   "cell_type": "code",
   "execution_count": 11,
   "id": "03b7ba94",
   "metadata": {},
   "outputs": [],
   "source": [
    "#deleting the first 3 div tag contents\n",
    "del div_box[0:3]"
   ]
  },
  {
   "cell_type": "code",
   "execution_count": 12,
   "id": "6f709ae0",
   "metadata": {},
   "outputs": [],
   "source": [
    "#taking laptop links of first one by fetching the href inside the a tag\n",
    "product_link='https://www.flipkart.com'+div_box[0].div.div.div.a['href']"
   ]
  },
  {
   "cell_type": "code",
   "execution_count": 13,
   "id": "835ae503",
   "metadata": {},
   "outputs": [
    {
     "name": "stdout",
     "output_type": "stream",
     "text": [
      "https://www.flipkart.com/asus-vivobook-15-2022-core-i3-10th-gen-8-gb-512-gb-ssd-windows-11-home-x515ja-ej362ws-x515ja-ej392ws-x515ja-ej382ws-thin-light-laptop/p/itm8e0e9c901e006?pid=COMG87FFPEDAAGXW&lid=LSTCOMG87FFPEDAAGXWTMCIPI&marketplace=FLIPKART&q=laptops&store=6bo%2Fb5g&srno=s_1_2&otracker=search&fm=organic&iid=3c23ac55-f355-4ba9-875e-23c1772fc83d.COMG87FFPEDAAGXW.SEARCH&ppt=None&ppn=None&ssid=0rcyfi5z280000001677773902046&qH=c06ea84a1e3dc3c6\n",
      "https://www.flipkart.com/hp-14s-intel-core-i3-11th-gen-8-gb-256-gb-ssd-windows-11-home-dy2507tu-thin-light-laptop/p/itm183e95bd1f23b?pid=COMGG63H9BFFUYVY&lid=LSTCOMGG63H9BFFUYVYFHH552&marketplace=FLIPKART&q=laptops&store=6bo%2Fb5g&srno=s_1_3&otracker=search&fm=organic&iid=3c23ac55-f355-4ba9-875e-23c1772fc83d.COMGG63H9BFFUYVY.SEARCH&ppt=None&ppn=None&ssid=0rcyfi5z280000001677773902046&qH=c06ea84a1e3dc3c6\n",
      "https://www.flipkart.com/asus-vivobook-14-2021-celeron-dual-core-4-gb-256-gb-ssd-windows-11-home-x415ma-bv011w-thin-light-laptop/p/itm8f9bebd99f5c0?pid=COMGBH774UHWUFQF&lid=LSTCOMGBH774UHWUFQFHH2XKA&marketplace=FLIPKART&q=laptops&store=6bo%2Fb5g&srno=s_1_4&otracker=search&fm=organic&iid=3c23ac55-f355-4ba9-875e-23c1772fc83d.COMGBH774UHWUFQF.SEARCH&ppt=None&ppn=None&ssid=0rcyfi5z280000001677773902046&qH=c06ea84a1e3dc3c6\n",
      "https://www.flipkart.com/asus-core-i5-11th-gen-8-gb-512-gb-ssd-windows-10-home-2-graphics-k513ep-bq1092t-thin-light-laptop/p/itm5e4e7f79e64f0?pid=COMGMF4YH9486AHW&lid=LSTCOMGMF4YH9486AHWCWMQIZ&marketplace=FLIPKART&q=laptops&store=6bo%2Fb5g&srno=s_1_5&otracker=search&fm=organic&iid=3c23ac55-f355-4ba9-875e-23c1772fc83d.COMGMF4YH9486AHW.SEARCH&ppt=None&ppn=None&ssid=0rcyfi5z280000001677773902046&qH=c06ea84a1e3dc3c6\n",
      "https://www.flipkart.com/lenovo-athlon-dual-core-4-gb-256-gb-ssd-dos-e41-55-45-2-laptop/p/itm3a9379e2f6ee9?pid=COMGHYAS6GRKGANP&lid=LSTCOMGHYAS6GRKGANPOVKX3Q&marketplace=FLIPKART&q=laptops&store=6bo%2Fb5g&srno=s_1_6&otracker=search&fm=organic&iid=3c23ac55-f355-4ba9-875e-23c1772fc83d.COMGHYAS6GRKGANP.SEARCH&ppt=None&ppn=None&ssid=0rcyfi5z280000001677773902046&qH=c06ea84a1e3dc3c6\n",
      "https://www.flipkart.com/hp-ryzen-5-hexa-core-5500u-16-gb-512-gb-ssd-windows-11-home-15s-eq2182au-thin-light-laptop/p/itm09b322c037285?pid=COMGFRHGDB9G3Z9C&lid=LSTCOMGFRHGDB9G3Z9CT0PG6J&marketplace=FLIPKART&q=laptops&store=6bo%2Fb5g&srno=s_1_7&otracker=search&fm=organic&iid=3c23ac55-f355-4ba9-875e-23c1772fc83d.COMGFRHGDB9G3Z9C.SEARCH&ppt=None&ppn=None&ssid=0rcyfi5z280000001677773902046&qH=c06ea84a1e3dc3c6\n",
      "https://www.flipkart.com/hp-14s-intel-core-i3-11th-gen-8-gb-512-gb-ssd-windows-11-home-dy2508tu-thin-light-laptop/p/itm49f4531237a12?pid=COMGGTT4VFWG3FFM&lid=LSTCOMGGTT4VFWG3FFMB7VNLU&marketplace=FLIPKART&q=laptops&store=6bo%2Fb5g&srno=s_1_8&otracker=search&fm=organic&iid=3c23ac55-f355-4ba9-875e-23c1772fc83d.COMGGTT4VFWG3FFM.SEARCH&ppt=None&ppn=None&ssid=0rcyfi5z280000001677773902046&qH=c06ea84a1e3dc3c6\n",
      "https://www.flipkart.com/hp-athlon-dual-core-3050u-8-gb-256-gb-ssd-windows-11-home-14s-fq0568au-thin-light-laptop/p/itm69710a61fcfdf?pid=COMGG63HHFBZ2BZP&lid=LSTCOMGG63HHFBZ2BZPO05AZF&marketplace=FLIPKART&q=laptops&store=6bo%2Fb5g&srno=s_1_9&otracker=search&fm=organic&iid=3c23ac55-f355-4ba9-875e-23c1772fc83d.COMGG63HHFBZ2BZP.SEARCH&ppt=None&ppn=None&ssid=0rcyfi5z280000001677773902046&qH=c06ea84a1e3dc3c6\n",
      "https://www.flipkart.com/dell-vostro-core-i3-10th-gen-8-gb-512-gb-ssd-windows-11-home-3510-thin-light-laptop/p/itm4026bcf6107a8?pid=COMGBP5FFVGDQFXY&lid=LSTCOMGBP5FFVGDQFXYP0TQHF&marketplace=FLIPKART&q=laptops&store=6bo%2Fb5g&srno=s_1_10&otracker=search&fm=organic&iid=3c23ac55-f355-4ba9-875e-23c1772fc83d.COMGBP5FFVGDQFXY.SEARCH&ppt=None&ppn=None&ssid=0rcyfi5z280000001677773902046&qH=c06ea84a1e3dc3c6\n",
      "https://www.flipkart.com/acer-aspire-3-ryzen-dual-core-3250u-8-gb-256-gb-ssd-windows-11-home-a315-23-laptop/p/itm6961e2f1ddc21?pid=COMGFY85CRF3KF5W&lid=LSTCOMGFY85CRF3KF5WFX1VHM&marketplace=FLIPKART&q=laptops&store=6bo%2Fb5g&srno=s_1_11&otracker=search&fm=organic&iid=3c23ac55-f355-4ba9-875e-23c1772fc83d.COMGFY85CRF3KF5W.SEARCH&ppt=None&ppn=None&ssid=0rcyfi5z280000001677773902046&qH=c06ea84a1e3dc3c6\n",
      "https://www.flipkart.com/asus-vivobook-15-core-i3-11th-gen-8-gb-512-gb-ssd-windows-11-home-x515ea-ej322ws-thin-light-laptop/p/itmc6461360364e0?pid=COMGA5TUCZAV4HGH&lid=LSTCOMGA5TUCZAV4HGHWM8PS0&marketplace=FLIPKART&q=laptops&store=6bo%2Fb5g&srno=s_1_12&otracker=search&fm=organic&iid=3c23ac55-f355-4ba9-875e-23c1772fc83d.COMGA5TUCZAV4HGH.SEARCH&ppt=None&ppn=None&ssid=0rcyfi5z280000001677773902046&qH=c06ea84a1e3dc3c6\n",
      "https://www.flipkart.com/redmibook-pro-core-i5-11th-gen-8-gb-512-gb-ssd-windows-11-home-thin-light-laptop/p/itm436427e982703?pid=COMG4Z359A4Z3MFG&lid=LSTCOMG4Z359A4Z3MFGOJQLGB&marketplace=FLIPKART&q=laptops&store=6bo%2Fb5g&spotlightTagId=BestsellerId_6bo%2Fb5g&srno=s_1_13&otracker=search&fm=organic&iid=3c23ac55-f355-4ba9-875e-23c1772fc83d.COMG4Z359A4Z3MFG.SEARCH&ppt=None&ppn=None&ssid=0rcyfi5z280000001677773902046&qH=c06ea84a1e3dc3c6\n",
      "https://www.flipkart.com/hp-15s-intel-core-i3-12th-gen-8-gb-512-gb-ssd-windows-11-home-15s-fq5007tu-thin-light-laptop/p/itm559f5c880dc4a?pid=COMGKW2NSU4SPZSG&lid=LSTCOMGKW2NSU4SPZSGEOIPKZ&marketplace=FLIPKART&q=laptops&store=6bo%2Fb5g&srno=s_1_14&otracker=search&fm=organic&iid=3c23ac55-f355-4ba9-875e-23c1772fc83d.COMGKW2NSU4SPZSG.SEARCH&ppt=None&ppn=None&ssid=0rcyfi5z280000001677773902046&qH=c06ea84a1e3dc3c6\n",
      "https://www.flipkart.com/asus-tuf-gaming-a17-90whr-battery-ryzen-5-hexa-core-amd-r5-4600h-8-gb-512-gb-ssd-windows-11-home-4-graphics-nvidia-geforce-gtx-1650-144-hz-fa706ihrb-hx041w-laptop/p/itm210385fd14c7a?pid=COMGFYQZZFRKBNWV&lid=LSTCOMGFYQZZFRKBNWVYP70VR&marketplace=FLIPKART&q=laptops&store=6bo%2Fb5g&srno=s_1_15&otracker=search&fm=organic&iid=3c23ac55-f355-4ba9-875e-23c1772fc83d.COMGFYQZZFRKBNWV.SEARCH&ppt=None&ppn=None&ssid=0rcyfi5z280000001677773902046&qH=c06ea84a1e3dc3c6\n",
      "https://www.flipkart.com/dell-vostro-core-i3-11th-gen-8-gb-1-tb-hdd-256-gb-ssd-windows-11-home-3510-thin-light-laptop/p/itm94af7689e9e9a?pid=COMGH53NQJHWAYP7&lid=LSTCOMGH53NQJHWAYP7R1RMWX&marketplace=FLIPKART&q=laptops&store=6bo%2Fb5g&srno=s_1_16&otracker=search&fm=organic&iid=3c23ac55-f355-4ba9-875e-23c1772fc83d.COMGH53NQJHWAYP7.SEARCH&ppt=None&ppn=None&ssid=0rcyfi5z280000001677773902046&qH=c06ea84a1e3dc3c6\n",
      "https://www.flipkart.com/apple-2020-macbook-air-m1-8-gb-256-gb-ssd-mac-os-big-sur-mgn63hn-a/p/itmde54f026889ce?pid=COMFXEKMGNHZYFH9&lid=LSTCOMFXEKMGNHZYFH9P56X45&marketplace=FLIPKART&q=laptops&store=6bo%2Fb5g&srno=s_1_17&otracker=search&fm=organic&iid=3c23ac55-f355-4ba9-875e-23c1772fc83d.COMFXEKMGNHZYFH9.SEARCH&ppt=None&ppn=None&ssid=0rcyfi5z280000001677773902046&qH=c06ea84a1e3dc3c6\n",
      "https://www.flipkart.com/hp-laptop-backlit-keyboard-core-i3-11th-gen-8-gb-512-gb-ssd-windows-11-home-15s-fr2512tu/p/itmb61e0d5b2f828?pid=COMGGMEYJVXAET6G&lid=LSTCOMGGMEYJVXAET6GWJOKKZ&marketplace=FLIPKART&q=laptops&store=6bo%2Fb5g&srno=s_1_18&otracker=search&fm=organic&iid=3c23ac55-f355-4ba9-875e-23c1772fc83d.COMGGMEYJVXAET6G.SEARCH&ppt=None&ppn=None&ssid=0rcyfi5z280000001677773902046&qH=c06ea84a1e3dc3c6\n",
      "https://www.flipkart.com/asus-vivobook-15-core-i7-11th-gen-16-gb-512-gb-ssd-windows-11-home-x515ea-ej701ws-thin-light-laptop/p/itmb91512fec2b91?pid=COMGJTC4GY5PV8PD&lid=LSTCOMGJTC4GY5PV8PDYU63VL&marketplace=FLIPKART&q=laptops&store=6bo%2Fb5g&srno=s_1_19&otracker=search&fm=organic&iid=3c23ac55-f355-4ba9-875e-23c1772fc83d.COMGJTC4GY5PV8PD.SEARCH&ppt=None&ppn=None&ssid=0rcyfi5z280000001677773902046&qH=c06ea84a1e3dc3c6\n",
      "https://www.flipkart.com/dell-core-i5-12th-gen-8-gb-1-tb-hdd-256-gb-ssd-windows-11-home-new-inspiron-15-laptop-thin-light/p/itm148ac85e4b92b?pid=COMGKAVGAGWWHZ2Y&lid=LSTCOMGKAVGAGWWHZ2YTPN3MS&marketplace=FLIPKART&q=laptops&store=6bo%2Fb5g&srno=s_1_20&otracker=search&fm=organic&iid=3c23ac55-f355-4ba9-875e-23c1772fc83d.COMGKAVGAGWWHZ2Y.SEARCH&ppt=None&ppn=None&ssid=0rcyfi5z280000001677773902046&qH=c06ea84a1e3dc3c6\n",
      "https://www.flipkart.com/lenovo-ideapad-3-core-i3-11th-gen-8-gb-512-gb-ssd-windows-11-home-82h801l7in-82h802fjin-82h802l3in-82h801lhin-thin-light-laptop/p/itm0e009f57a591b?pid=COMG9VHHG6Q3RRJX&lid=LSTCOMG9VHHG6Q3RRJXQHPK6Q&marketplace=FLIPKART&q=laptops&store=6bo%2Fb5g&srno=s_1_21&otracker=search&fm=organic&iid=3c23ac55-f355-4ba9-875e-23c1772fc83d.COMG9VHHG6Q3RRJX.SEARCH&ppt=None&ppn=None&ssid=0rcyfi5z280000001677773902046&qH=c06ea84a1e3dc3c6\n",
      "https://www.flipkart.com/hp-pavilion-x360-core-i7-12th-gen-16-gb-512-gb-ssd-windows-11-home-14-ek0092tu-thin-light-laptop/p/itm9cf832845d2c9?pid=COMGH2NJAFZSJX5C&lid=LSTCOMGH2NJAFZSJX5CGIISQH&marketplace=FLIPKART&q=laptops&store=6bo%2Fb5g&srno=s_1_22&otracker=search&fm=organic&iid=3c23ac55-f355-4ba9-875e-23c1772fc83d.COMGH2NJAFZSJX5C.SEARCH&ppt=None&ppn=None&ssid=0rcyfi5z280000001677773902046&qH=c06ea84a1e3dc3c6\n",
      "https://www.flipkart.com/hp-intel-core-i5-11th-gen-8-gb-512-gb-ssd-windows-11-home-15s-fr4000tu-thin-light-laptop/p/itm7fbaaf16c90f1?pid=COMGHN4MYVNWWQHG&lid=LSTCOMGHN4MYVNWWQHGPKYJCD&marketplace=FLIPKART&q=laptops&store=6bo%2Fb5g&srno=s_1_23&otracker=search&fm=organic&iid=3c23ac55-f355-4ba9-875e-23c1772fc83d.COMGHN4MYVNWWQHG.SEARCH&ppt=None&ppn=None&ssid=0rcyfi5z280000001677773902046&qH=c06ea84a1e3dc3c6\n",
      "https://www.flipkart.com/asus-tuf-gaming-a17-90whr-battery-ryzen-7-octa-core-amd-r7-4800h-8-gb-512-gb-ssd-windows-11-home-4-graphics-nvidia-geforce-rtx-3050-144-hz-fa706icb-hx061w-fa706ic-hx036w-laptop/p/itm1d301df445d80?pid=COMGB732ZPGYB2JP&lid=LSTCOMGB732ZPGYB2JPYP6PAL&marketplace=FLIPKART&q=laptops&store=6bo%2Fb5g&srno=s_1_24&otracker=search&fm=organic&iid=3c23ac55-f355-4ba9-875e-23c1772fc83d.COMGB732ZPGYB2JP.SEARCH&ppt=None&ppn=None&ssid=0rcyfi5z280000001677773902046&qH=c06ea84a1e3dc3c6\n"
     ]
    },
    {
     "ename": "AttributeError",
     "evalue": "'NoneType' object has no attribute 'a'",
     "output_type": "error",
     "traceback": [
      "\u001b[1;31m---------------------------------------------------------------------------\u001b[0m",
      "\u001b[1;31mAttributeError\u001b[0m                            Traceback (most recent call last)",
      "Input \u001b[1;32mIn [13]\u001b[0m, in \u001b[0;36m<cell line: 1>\u001b[1;34m()\u001b[0m\n\u001b[0;32m      1\u001b[0m \u001b[38;5;28;01mfor\u001b[39;00m i \u001b[38;5;129;01min\u001b[39;00m div_box:\n\u001b[1;32m----> 2\u001b[0m     \u001b[38;5;28mprint\u001b[39m(\u001b[38;5;124m'\u001b[39m\u001b[38;5;124mhttps://www.flipkart.com\u001b[39m\u001b[38;5;124m'\u001b[39m\u001b[38;5;241m+\u001b[39m\u001b[43mi\u001b[49m\u001b[38;5;241;43m.\u001b[39;49m\u001b[43mdiv\u001b[49m\u001b[38;5;241;43m.\u001b[39;49m\u001b[43mdiv\u001b[49m\u001b[38;5;241;43m.\u001b[39;49m\u001b[43mdiv\u001b[49m\u001b[38;5;241;43m.\u001b[39;49m\u001b[43ma\u001b[49m[\u001b[38;5;124m'\u001b[39m\u001b[38;5;124mhref\u001b[39m\u001b[38;5;124m'\u001b[39m])\n",
      "\u001b[1;31mAttributeError\u001b[0m: 'NoneType' object has no attribute 'a'"
     ]
    }
   ],
   "source": [
    "#for loop for all hrefs\n",
    "for i in div_box:\n",
    "    print('https://www.flipkart.com'+i.div.div.div.a['href'])"
   ]
  },
  {
   "cell_type": "code",
   "execution_count": 14,
   "id": "70ace9a8",
   "metadata": {},
   "outputs": [],
   "source": [
    "#fetching the laptop names displayed using the div class\n",
    "laptop_names=page_html.find_all('div',{'class':'_4rR01T'})"
   ]
  },
  {
   "cell_type": "code",
   "execution_count": 15,
   "id": "43d8fabb",
   "metadata": {},
   "outputs": [
    {
     "data": {
      "text/plain": [
       "24"
      ]
     },
     "execution_count": 15,
     "metadata": {},
     "output_type": "execute_result"
    }
   ],
   "source": [
    "len(laptop_names)"
   ]
  },
  {
   "cell_type": "code",
   "execution_count": 16,
   "id": "d8557f24",
   "metadata": {},
   "outputs": [
    {
     "data": {
      "text/plain": [
       "[<div class=\"_4rR01T\">ASUS TUF Gaming F15 Core i5 10th Gen - (8 GB/512 GB SSD/Windows 11 Home/4 GB Graphics/NVIDIA GeForce G...</div>,\n",
       " <div class=\"_4rR01T\">ASUS VivoBook 15 (2022) Core i3 10th Gen - (8 GB/512 GB SSD/Windows 11 Home) X515JA-EJ362WS | X515JA-E...</div>,\n",
       " <div class=\"_4rR01T\">HP 14s Intel Core i3 11th Gen - (8 GB/256 GB SSD/Windows 11 Home) 14s - dy2507TU Thin and Light Laptop</div>,\n",
       " <div class=\"_4rR01T\">ASUS VivoBook 14 (2021) Celeron Dual Core - (4 GB/256 GB SSD/Windows 11 Home) X415MA-BV011W Thin and L...</div>,\n",
       " <div class=\"_4rR01T\">ASUS Core i5 11th Gen - (8 GB/512 GB SSD/Windows 10 Home/2 GB Graphics) K513EP-BQ1092T Thin and Light ...</div>,\n",
       " <div class=\"_4rR01T\">Lenovo Athlon Dual Core - (4 GB/256 GB SSD/DOS) E41-55 45-2 Laptop</div>,\n",
       " <div class=\"_4rR01T\">HP Ryzen 5 Hexa Core 5500U - (16 GB/512 GB SSD/Windows 11 Home) 15s- eq2182AU Thin and Light Laptop</div>,\n",
       " <div class=\"_4rR01T\">HP 14s Intel Core i3 11th Gen - (8 GB/512 GB SSD/Windows 11 Home) 14s - dy2508TU Thin and Light Laptop</div>,\n",
       " <div class=\"_4rR01T\">HP Athlon Dual Core 3050U - (8 GB/256 GB SSD/Windows 11 Home) 14s-fq0568AU Thin and Light Laptop</div>,\n",
       " <div class=\"_4rR01T\">DELL Vostro Core i3 10th Gen - (8 GB/512 GB SSD/Windows 11 Home) Vostro 3510 Thin and Light Laptop</div>,\n",
       " <div class=\"_4rR01T\">acer Aspire 3 Ryzen 3 Dual Core 3250U - (8 GB/256 GB SSD/Windows 11 Home) A315-23 Laptop</div>,\n",
       " <div class=\"_4rR01T\">ASUS Vivobook 15 Core i3 11th Gen - (8 GB/512 GB SSD/Windows 11 Home) X515EA-EJ322WS Thin and Light La...</div>,\n",
       " <div class=\"_4rR01T\">RedmiBook Pro Core i5 11th Gen - (8 GB/512 GB SSD/Windows 11 Home) Thin and Light Laptop</div>,\n",
       " <div class=\"_4rR01T\">HP 15s Intel Core i3 12th Gen - (8 GB/512 GB SSD/Windows 11 Home) 15s-fq5007TU Thin and Light Laptop</div>,\n",
       " <div class=\"_4rR01T\">ASUS TUF Gaming A17 with 90Whr Battery Ryzen 5 Hexa Core AMD R5-4600H - (8 GB/512 GB SSD/Windows 11 Ho...</div>,\n",
       " <div class=\"_4rR01T\">DELL Vostro Core i3 11th Gen - (8 GB/1 TB HDD/256 GB SSD/Windows 11 Home) Vostro 3510 Thin and Light L...</div>,\n",
       " <div class=\"_4rR01T\">APPLE 2020 Macbook Air M1 - (8 GB/256 GB SSD/Mac OS Big Sur) MGN63HN/A</div>,\n",
       " <div class=\"_4rR01T\">HP Laptop with Backlit Keyboard Core i3 11th Gen - (8 GB/512 GB SSD/Windows 11 Home) 15s-fr2512tu Lapt...</div>,\n",
       " <div class=\"_4rR01T\">ASUS Vivobook 15 Core i7 11th Gen - (16 GB/512 GB SSD/Windows 11 Home) X515EA-EJ701WS Thin and Light L...</div>,\n",
       " <div class=\"_4rR01T\">DELL Core i5 12th Gen - (8 GB/1 TB HDD/256 GB SSD/Windows 11 Home) New Inspiron 15 Laptop Thin and Lig...</div>,\n",
       " <div class=\"_4rR01T\">Lenovo IdeaPad 3 Core i3 11th Gen - (8 GB/512 GB SSD/Windows 11 Home) 82H801L7IN | 82H802FJIN | 82H802...</div>,\n",
       " <div class=\"_4rR01T\">HP Pavilion x360 Core i7 12th Gen - (16 GB/512 GB SSD/Windows 11 Home) 14-ek0092TU Thin and Light Lapt...</div>,\n",
       " <div class=\"_4rR01T\">HP Intel Core i5 11th Gen - (8 GB/512 GB SSD/Windows 11 Home) 15s- fr4000TU Thin and Light Laptop</div>,\n",
       " <div class=\"_4rR01T\">ASUS TUF Gaming A17 with 90Whr Battery Ryzen 7 Octa Core AMD R7-4800H - (8 GB/512 GB SSD/Windows 11 Ho...</div>]"
      ]
     },
     "execution_count": 16,
     "metadata": {},
     "output_type": "execute_result"
    }
   ],
   "source": [
    "laptop_names"
   ]
  },
  {
   "cell_type": "code",
   "execution_count": 19,
   "id": "cd995885",
   "metadata": {},
   "outputs": [
    {
     "name": "stdout",
     "output_type": "stream",
     "text": [
      "ASUS TUF Gaming F15 Core i5 10th Gen - (8 GB/512 GB SSD/Windows 11 Home/4 GB Graphics/NVIDIA GeForce G...\n",
      "ASUS VivoBook 15 (2022) Core i3 10th Gen - (8 GB/512 GB SSD/Windows 11 Home) X515JA-EJ362WS | X515JA-E...\n",
      "HP 14s Intel Core i3 11th Gen - (8 GB/256 GB SSD/Windows 11 Home) 14s - dy2507TU Thin and Light Laptop\n",
      "ASUS VivoBook 14 (2021) Celeron Dual Core - (4 GB/256 GB SSD/Windows 11 Home) X415MA-BV011W Thin and L...\n",
      "ASUS Core i5 11th Gen - (8 GB/512 GB SSD/Windows 10 Home/2 GB Graphics) K513EP-BQ1092T Thin and Light ...\n",
      "Lenovo Athlon Dual Core - (4 GB/256 GB SSD/DOS) E41-55 45-2 Laptop\n",
      "HP Ryzen 5 Hexa Core 5500U - (16 GB/512 GB SSD/Windows 11 Home) 15s- eq2182AU Thin and Light Laptop\n",
      "HP 14s Intel Core i3 11th Gen - (8 GB/512 GB SSD/Windows 11 Home) 14s - dy2508TU Thin and Light Laptop\n",
      "HP Athlon Dual Core 3050U - (8 GB/256 GB SSD/Windows 11 Home) 14s-fq0568AU Thin and Light Laptop\n",
      "DELL Vostro Core i3 10th Gen - (8 GB/512 GB SSD/Windows 11 Home) Vostro 3510 Thin and Light Laptop\n",
      "acer Aspire 3 Ryzen 3 Dual Core 3250U - (8 GB/256 GB SSD/Windows 11 Home) A315-23 Laptop\n",
      "ASUS Vivobook 15 Core i3 11th Gen - (8 GB/512 GB SSD/Windows 11 Home) X515EA-EJ322WS Thin and Light La...\n",
      "RedmiBook Pro Core i5 11th Gen - (8 GB/512 GB SSD/Windows 11 Home) Thin and Light Laptop\n",
      "HP 15s Intel Core i3 12th Gen - (8 GB/512 GB SSD/Windows 11 Home) 15s-fq5007TU Thin and Light Laptop\n",
      "ASUS TUF Gaming A17 with 90Whr Battery Ryzen 5 Hexa Core AMD R5-4600H - (8 GB/512 GB SSD/Windows 11 Ho...\n",
      "DELL Vostro Core i3 11th Gen - (8 GB/1 TB HDD/256 GB SSD/Windows 11 Home) Vostro 3510 Thin and Light L...\n",
      "APPLE 2020 Macbook Air M1 - (8 GB/256 GB SSD/Mac OS Big Sur) MGN63HN/A\n",
      "HP Laptop with Backlit Keyboard Core i3 11th Gen - (8 GB/512 GB SSD/Windows 11 Home) 15s-fr2512tu Lapt...\n",
      "ASUS Vivobook 15 Core i7 11th Gen - (16 GB/512 GB SSD/Windows 11 Home) X515EA-EJ701WS Thin and Light L...\n",
      "DELL Core i5 12th Gen - (8 GB/1 TB HDD/256 GB SSD/Windows 11 Home) New Inspiron 15 Laptop Thin and Lig...\n",
      "Lenovo IdeaPad 3 Core i3 11th Gen - (8 GB/512 GB SSD/Windows 11 Home) 82H801L7IN | 82H802FJIN | 82H802...\n",
      "HP Pavilion x360 Core i7 12th Gen - (16 GB/512 GB SSD/Windows 11 Home) 14-ek0092TU Thin and Light Lapt...\n",
      "HP Intel Core i5 11th Gen - (8 GB/512 GB SSD/Windows 11 Home) 15s- fr4000TU Thin and Light Laptop\n",
      "ASUS TUF Gaming A17 with 90Whr Battery Ryzen 7 Octa Core AMD R7-4800H - (8 GB/512 GB SSD/Windows 11 Ho...\n"
     ]
    }
   ],
   "source": [
    "#taking the text inside div for lap names\n",
    "for i in laptop_names:\n",
    "    print(i.text)\n",
    "    "
   ]
  },
  {
   "cell_type": "code",
   "execution_count": 20,
   "id": "702400bb",
   "metadata": {},
   "outputs": [],
   "source": [
    "#for redirecting to the laptop link page \n",
    "product_req=requests.get(product_link)"
   ]
  },
  {
   "cell_type": "code",
   "execution_count": 21,
   "id": "544920b8",
   "metadata": {},
   "outputs": [
    {
     "data": {
      "text/plain": [
       "<Response [200]>"
      ]
     },
     "execution_count": 21,
     "metadata": {},
     "output_type": "execute_result"
    }
   ],
   "source": [
    "#checking the response\n",
    "product_req\n",
    "#p=urlopen(product_link)\n",
    "#p.read()"
   ]
  },
  {
   "cell_type": "code",
   "execution_count": 22,
   "id": "66a31d3a",
   "metadata": {},
   "outputs": [],
   "source": [
    "#fetchig=ng the html\n",
    "product_req_page=product_req.text"
   ]
  },
  {
   "cell_type": "code",
   "execution_count": 23,
   "id": "14fb4dab",
   "metadata": {},
   "outputs": [],
   "source": [
    "#applying beautiful soup\n",
    "soup=bs(product_req_page,'html.parser')"
   ]
  },
  {
   "cell_type": "code",
   "execution_count": 24,
   "id": "fbebc984",
   "metadata": {},
   "outputs": [],
   "source": [
    "#fetching th laptop feature div class\n",
    "laptops_features=soup.find_all('div',{'class':'_2k6Cpt _3g3pZU'})"
   ]
  },
  {
   "cell_type": "code",
   "execution_count": 25,
   "id": "b1136c63",
   "metadata": {},
   "outputs": [
    {
     "data": {
      "text/plain": [
       "4"
      ]
     },
     "execution_count": 25,
     "metadata": {},
     "output_type": "execute_result"
    }
   ],
   "source": [
    "len(laptops_features)"
   ]
  },
  {
   "cell_type": "code",
   "execution_count": 26,
   "id": "11783224",
   "metadata": {},
   "outputs": [
    {
     "data": {
      "text/plain": [
       "<div class=\"_2k6Cpt _3g3pZU\"><div class=\"K4SXrT funtru\"><div><div><div class=\"_2VJ5OP nQbOnP _3sy89e\"><img src=\"https://rukminim1.flixcart.com/image/200/200/cms-rpd-img/8075e4fc87e5491299cb685cbe3a73c6_183123f3139_image.jpeg?q=90\" style=\"max-width:100%;vertical-align:middle\"/></div><div><div class=\"_3qWObK\">Efficient Data Transmission</div><div class=\"_3zQntF\"><p>The dual-storage ASUS VivoBook 15 provides you with the advantages of extremely quick data speed and substantial storage space. The HDD can be utilised to store massive items like films, audio collections, and photo albums, while the SSD can be used to install software for rapid response and loading times.</p>\n",
       "</div></div></div></div></div></div>"
      ]
     },
     "execution_count": 26,
     "metadata": {},
     "output_type": "execute_result"
    }
   ],
   "source": [
    "laptops_features[0]"
   ]
  },
  {
   "cell_type": "code",
   "execution_count": 27,
   "id": "0e84fe67",
   "metadata": {},
   "outputs": [
    {
     "data": {
      "text/plain": [
       "'The dual-storage ASUS VivoBook 15 provides you with the advantages of extremely quick data speed and substantial storage space. The HDD can be utilised to store massive items like films, audio collections, and photo albums, while the SSD can be used to install software for rapid response and loading times.'"
      ]
     },
     "execution_count": 27,
     "metadata": {},
     "output_type": "execute_result"
    }
   ],
   "source": [
    "#fetching the particular p tag text about laptop\n",
    "laptops_features[0].div.div.div.p.text"
   ]
  },
  {
   "cell_type": "code",
   "execution_count": 28,
   "id": "beb597ff",
   "metadata": {},
   "outputs": [],
   "source": [
    "#moving to the comments div\n",
    "comments=soup.find_all('div',class_='_16PBlm')"
   ]
  },
  {
   "cell_type": "code",
   "execution_count": 29,
   "id": "803f70e4",
   "metadata": {},
   "outputs": [
    {
     "data": {
      "text/plain": [
       "11"
      ]
     },
     "execution_count": 29,
     "metadata": {},
     "output_type": "execute_result"
    }
   ],
   "source": [
    "len(comments)"
   ]
  },
  {
   "cell_type": "code",
   "execution_count": 30,
   "id": "54e5e930",
   "metadata": {},
   "outputs": [
    {
     "data": {
      "text/plain": [
       "'Nice product'"
      ]
     },
     "execution_count": 30,
     "metadata": {},
     "output_type": "execute_result"
    }
   ],
   "source": [
    "#fetching the comment given \n",
    "comments[0].div.div.div.p.text"
   ]
  },
  {
   "cell_type": "code",
   "execution_count": 35,
   "id": "229b96de",
   "metadata": {},
   "outputs": [
    {
     "name": "stdout",
     "output_type": "stream",
     "text": [
      "Nice product\n",
      "Good choice\n",
      "Classy product\n",
      "Moderate\n",
      "Super!\n",
      "Nice product\n",
      "Delightful\n",
      "Mind-blowing purchase\n",
      "Best in the market!\n",
      "Expected a better product\n"
     ]
    },
    {
     "ename": "AttributeError",
     "evalue": "'NoneType' object has no attribute 'div'",
     "output_type": "error",
     "traceback": [
      "\u001b[1;31m---------------------------------------------------------------------------\u001b[0m",
      "\u001b[1;31mAttributeError\u001b[0m                            Traceback (most recent call last)",
      "Input \u001b[1;32mIn [35]\u001b[0m, in \u001b[0;36m<cell line: 1>\u001b[1;34m()\u001b[0m\n\u001b[0;32m      1\u001b[0m \u001b[38;5;28;01mfor\u001b[39;00m i \u001b[38;5;129;01min\u001b[39;00m comments:\n\u001b[1;32m----> 2\u001b[0m     \u001b[38;5;28mprint\u001b[39m(\u001b[43mi\u001b[49m\u001b[38;5;241;43m.\u001b[39;49m\u001b[43mdiv\u001b[49m\u001b[38;5;241;43m.\u001b[39;49m\u001b[43mdiv\u001b[49m\u001b[38;5;241m.\u001b[39mp\u001b[38;5;241m.\u001b[39mtext)\n",
      "\u001b[1;31mAttributeError\u001b[0m: 'NoneType' object has no attribute 'div'"
     ]
    }
   ],
   "source": [
    "#fetching the above for all review comments\n",
    "for i in comments:\n",
    "    print(i.div.div.p.text)"
   ]
  },
  {
   "cell_type": "code",
   "execution_count": 32,
   "id": "f072010c",
   "metadata": {},
   "outputs": [],
   "source": [
    "#fetchig the laptop stars given by users\n",
    "no_stars=soup.find_all('div',class_='_16PBlm')"
   ]
  },
  {
   "cell_type": "code",
   "execution_count": 33,
   "id": "e6981de9",
   "metadata": {},
   "outputs": [
    {
     "data": {
      "text/plain": [
       "'4'"
      ]
     },
     "execution_count": 33,
     "metadata": {},
     "output_type": "execute_result"
    }
   ],
   "source": [
    "no_stars[0].div.div.div.div.text"
   ]
  },
  {
   "cell_type": "code",
   "execution_count": 34,
   "id": "c040bbd8",
   "metadata": {},
   "outputs": [
    {
     "name": "stdout",
     "output_type": "stream",
     "text": [
      "4\n",
      "4\n",
      "5\n",
      "2\n",
      "5\n",
      "4\n",
      "4\n",
      "5\n",
      "5\n",
      "2\n"
     ]
    },
    {
     "ename": "AttributeError",
     "evalue": "'NoneType' object has no attribute 'div'",
     "output_type": "error",
     "traceback": [
      "\u001b[1;31m---------------------------------------------------------------------------\u001b[0m",
      "\u001b[1;31mAttributeError\u001b[0m                            Traceback (most recent call last)",
      "Input \u001b[1;32mIn [34]\u001b[0m, in \u001b[0;36m<cell line: 1>\u001b[1;34m()\u001b[0m\n\u001b[0;32m      1\u001b[0m \u001b[38;5;28;01mfor\u001b[39;00m i \u001b[38;5;129;01min\u001b[39;00m no_stars:\n\u001b[1;32m----> 2\u001b[0m     \u001b[38;5;28mprint\u001b[39m(\u001b[43mi\u001b[49m\u001b[38;5;241;43m.\u001b[39;49m\u001b[43mdiv\u001b[49m\u001b[38;5;241;43m.\u001b[39;49m\u001b[43mdiv\u001b[49m\u001b[38;5;241m.\u001b[39mdiv\u001b[38;5;241m.\u001b[39mdiv\u001b[38;5;241m.\u001b[39mtext)\n",
      "\u001b[1;31mAttributeError\u001b[0m: 'NoneType' object has no attribute 'div'"
     ]
    }
   ],
   "source": [
    "#fetching the no.of stars given to the laptop\n",
    "for i in no_stars:\n",
    "    print(i.div.div.div.div.text)"
   ]
  },
  {
   "cell_type": "code",
   "execution_count": null,
   "id": "141fee66",
   "metadata": {},
   "outputs": [],
   "source": []
  }
 ],
 "metadata": {
  "kernelspec": {
   "display_name": "Python 3 (ipykernel)",
   "language": "python",
   "name": "python3"
  },
  "language_info": {
   "codemirror_mode": {
    "name": "ipython",
    "version": 3
   },
   "file_extension": ".py",
   "mimetype": "text/x-python",
   "name": "python",
   "nbconvert_exporter": "python",
   "pygments_lexer": "ipython3",
   "version": "3.9.12"
  }
 },
 "nbformat": 4,
 "nbformat_minor": 5
}

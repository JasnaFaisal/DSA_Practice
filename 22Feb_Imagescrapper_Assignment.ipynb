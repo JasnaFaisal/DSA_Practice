{
 "cells": [
  {
   "cell_type": "markdown",
   "id": "c1ab373d",
   "metadata": {},
   "source": [
    "Go to this given URL and solve the following questions\n",
    "URL: https://www.youtube.com/@PW-Foundation/videos\n",
    "#### Q1. Write a python program to extract the video URL of the first five videos."
   ]
  },
  {
   "cell_type": "code",
   "execution_count": 81,
   "id": "0c306a14",
   "metadata": {},
   "outputs": [],
   "source": [
    "import requests\n",
    "from bs4 import BeautifulSoup as bs\n",
    "from urllib.request import urlopen\n",
    "import logging"
   ]
  },
  {
   "cell_type": "code",
   "execution_count": 54,
   "id": "f38f6138",
   "metadata": {},
   "outputs": [],
   "source": [
    "youtube_url=urlopen(\"https://www.youtube.com/@PW-Foundation/videos\")\n",
    "youtube_content=youtube_url.read()"
   ]
  },
  {
   "cell_type": "code",
   "execution_count": 56,
   "id": "6b75b589",
   "metadata": {},
   "outputs": [],
   "source": [
    "youtube_html=bs(youtube_content,'html.parser')"
   ]
  },
  {
   "cell_type": "code",
   "execution_count": 59,
   "id": "0447e648",
   "metadata": {},
   "outputs": [],
   "source": [
    "#youtube_html.prettify()"
   ]
  },
  {
   "cell_type": "code",
   "execution_count": 60,
   "id": "c193045b",
   "metadata": {},
   "outputs": [
    {
     "name": "stdout",
     "output_type": "stream",
     "text": [
      "<title>Physics Wallah Foundation - YouTube</title>\n"
     ]
    }
   ],
   "source": [
    "#checking the html\n",
    "print(youtube_html.title)"
   ]
  },
  {
   "cell_type": "code",
   "execution_count": 91,
   "id": "2ac011b1",
   "metadata": {},
   "outputs": [
    {
     "data": {
      "text/plain": [
       "0"
      ]
     },
     "execution_count": 91,
     "metadata": {},
     "output_type": "execute_result"
    }
   ],
   "source": [
    "titles=[]\n",
    "for i in youtube_html.find_all('div',attrs={'id':'dismissible','class':'style-scope ytd-rich-grid-media'}):\n",
    "    title=i.find('yt-formatted-string', attrs={'id':'video-title','class':'style-scope ytd-rich-grid-media'})\n",
    "    titles.append(title.text) \n",
    "len(titles)"
   ]
  },
  {
   "cell_type": "code",
   "execution_count": 90,
   "id": "ddd32e7b",
   "metadata": {},
   "outputs": [
    {
     "data": {
      "text/plain": [
       "0"
      ]
     },
     "execution_count": 90,
     "metadata": {},
     "output_type": "execute_result"
    }
   ],
   "source": [
    "video_links=[]\n",
    "for a in youtube_html.find_all(attrs={'id':'dismissible','class':'style-scope ytd-rich-grid-media'}):\n",
    "    link = a.find('a',attrs={'id':'video-title-link','class':'yt-simple-endpoint focus-on-expand style-scope ytd-rich-grid-media'})\n",
    "    links.append(youtube_url+link.get('href'))\n",
    "len(video_links)  "
   ]
  },
  {
   "cell_type": "code",
   "execution_count": 67,
   "id": "d2aedc96",
   "metadata": {},
   "outputs": [],
   "source": [
    "views=[]\n",
    "for a in youtube_html.find_all(attrs={'id':'dismissible','class':'style-scope ytd-rich-grid-media'}):    \n",
    "    view = a.find('div',attrs={'id':'metadata-line','class':'style-scope ytd-video-meta-block'})\n",
    "    views.append(view.span.text)"
   ]
  },
  {
   "cell_type": "code",
   "execution_count": 68,
   "id": "727f1e21",
   "metadata": {},
   "outputs": [],
   "source": [
    "channel_links=[]\n",
    "for a in youtube_html.find_all(attrs={'id':'dismissible','class':'style-scope ytd-rich-grid-media'}):\n",
    "    channel = a.find('yt-formatted-string', attrs={'id':'text','class':'style-scope ytd-channel-name complex-string'})\n",
    "    channels.append(channel.text)\n",
    "    channel_links.append(weburl+channel.a.get('href'))\n"
   ]
  },
  {
   "cell_type": "code",
   "execution_count": 88,
   "id": "8474b878",
   "metadata": {},
   "outputs": [],
   "source": [
    "import pandas as pd\n",
    "youtube_data = pd.DataFrame(data={\"Title\":titles,'Channel link':channel_links,\"Views\":views,\"Link\":video_links})"
   ]
  },
  {
   "cell_type": "code",
   "execution_count": 89,
   "id": "24ba5d69",
   "metadata": {},
   "outputs": [
    {
     "data": {
      "text/html": [
       "<div>\n",
       "<style scoped>\n",
       "    .dataframe tbody tr th:only-of-type {\n",
       "        vertical-align: middle;\n",
       "    }\n",
       "\n",
       "    .dataframe tbody tr th {\n",
       "        vertical-align: top;\n",
       "    }\n",
       "\n",
       "    .dataframe thead th {\n",
       "        text-align: right;\n",
       "    }\n",
       "</style>\n",
       "<table border=\"1\" class=\"dataframe\">\n",
       "  <thead>\n",
       "    <tr style=\"text-align: right;\">\n",
       "      <th></th>\n",
       "      <th>Title</th>\n",
       "      <th>channel link</th>\n",
       "      <th>views</th>\n",
       "      <th>Link</th>\n",
       "    </tr>\n",
       "  </thead>\n",
       "  <tbody>\n",
       "  </tbody>\n",
       "</table>\n",
       "</div>"
      ],
      "text/plain": [
       "Empty DataFrame\n",
       "Columns: [Title, channel link, views, Link]\n",
       "Index: []"
      ]
     },
     "execution_count": 89,
     "metadata": {},
     "output_type": "execute_result"
    }
   ],
   "source": [
    "youtube_data"
   ]
  },
  {
   "cell_type": "markdown",
   "id": "cfd54145",
   "metadata": {},
   "source": [
    "#### Q2. Write a python program to extract the URL of the video thumbnails of the first five videos."
   ]
  },
  {
   "cell_type": "markdown",
   "id": "4e833140",
   "metadata": {},
   "source": [
    "#### Q3. Write a python program to extract the title of the first five videos."
   ]
  },
  {
   "cell_type": "markdown",
   "id": "50c3d24c",
   "metadata": {},
   "source": [
    "#### Q4. Write a python program to extract the number of views of the first five videos."
   ]
  },
  {
   "cell_type": "markdown",
   "id": "cca801b7",
   "metadata": {},
   "source": [
    "#### Q5. Write a python program to extract the time of posting of video for the first five videos.\n",
    "Note: Save all the data scraped in the above questions in a CSV file."
   ]
  },
  {
   "cell_type": "code",
   "execution_count": null,
   "id": "a7660abe",
   "metadata": {},
   "outputs": [],
   "source": []
  }
 ],
 "metadata": {
  "kernelspec": {
   "display_name": "Python 3 (ipykernel)",
   "language": "python",
   "name": "python3"
  },
  "language_info": {
   "codemirror_mode": {
    "name": "ipython",
    "version": 3
   },
   "file_extension": ".py",
   "mimetype": "text/x-python",
   "name": "python",
   "nbconvert_exporter": "python",
   "pygments_lexer": "ipython3",
   "version": "3.9.12"
  }
 },
 "nbformat": 4,
 "nbformat_minor": 5
}
